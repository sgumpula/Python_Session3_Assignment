{
 "cells": [
  {
   "cell_type": "code",
   "execution_count": 1,
   "metadata": {},
   "outputs": [
    {
     "name": "stdout",
     "output_type": "stream",
     "text": [
      "reduce(5,10)= 15120\n",
      "5 5\n",
      "6 30\n",
      "7 210\n",
      "8 1680\n",
      "9 15120\n",
      "myreduce(5,10)= 15120\n"
     ]
    }
   ],
   "source": [
    "#Write a Python Program to implement your own myreduce() function which works exactly\n",
    "#like Python's built-in function reduce()\n",
    "\n",
    "def multiply(x,y): return x*y\n",
    "x = 5\n",
    "y = 10\n",
    "\n",
    "import functools\n",
    "tot = functools.reduce(multiply, range(5, 10))\n",
    "print ('reduce('+str(x)+','+str(y)+')=' ,tot)\n",
    "\n",
    "def myreduce(a,b):\n",
    "    tot = 1\n",
    "    for i in range(a,b):\n",
    "        tot = tot * i\n",
    "        print (i,tot)\n",
    "    print ('myreduce('+str(a)+','+str(b)+')=' ,tot)\n",
    "\n",
    "myreduce(x,y)"
   ]
  },
  {
   "cell_type": "code",
   "execution_count": null,
   "metadata": {},
   "outputs": [],
   "source": [
    "#Write a Python program to implement your own myfilter() function which works exactly like\n",
    "#Python's built-in function filter()"
   ]
  },
  {
   "cell_type": "code",
   "execution_count": 2,
   "metadata": {},
   "outputs": [
    {
     "name": "stdout",
     "output_type": "stream",
     "text": [
      "filter function = \n",
      "24\n",
      "32\n",
      "myfilter function = \n",
      "24\n",
      "32\n"
     ]
    }
   ],
   "source": [
    "age = [5, 12, 17, 18, 24, 32]\n",
    "adults = filter(lambda x: x > 18 , age)\n",
    "print(\"filter function = \")\n",
    "for x in adults:\n",
    "  print(x)\n",
    "\n",
    "def myfilter(a):\n",
    "    l = []\n",
    "    for i in a:\n",
    "        if( i > 18):\n",
    "            l.append(i)        \n",
    "    print ('myfilter function = ')\n",
    "    for x in l:\n",
    "      print(x)\n",
    "\n",
    "myfilter(age)"
   ]
  },
  {
   "cell_type": "code",
   "execution_count": null,
   "metadata": {},
   "outputs": [],
   "source": [
    "# Implement List comprehensions to produce the following lists.\n",
    "#Write List comprehensions to produce the following Lists\n",
    "#['A', 'C', 'A', 'D', 'G', 'I', ’L’, ‘ D’]"
   ]
  },
  {
   "cell_type": "code",
   "execution_count": 3,
   "metadata": {},
   "outputs": [
    {
     "name": "stdout",
     "output_type": "stream",
     "text": [
      "['A', 'C', 'A', 'D', 'G', 'I', 'L', 'D']\n"
     ]
    }
   ],
   "source": [
    "letters = []\n",
    "\n",
    "for letter in 'ACADGILD':\n",
    "    letters.append(letter)\n",
    "\n",
    "print(letters)"
   ]
  },
  {
   "cell_type": "code",
   "execution_count": null,
   "metadata": {},
   "outputs": [],
   "source": [
    "#['x', 'xx', 'xxx', 'xxxx', 'y', 'yy', 'yyy', 'yyyy', 'z', 'zz', 'zzz', 'zzzz']"
   ]
  },
  {
   "cell_type": "code",
   "execution_count": 4,
   "metadata": {},
   "outputs": [
    {
     "name": "stdout",
     "output_type": "stream",
     "text": [
      "['x', 'xx', 'xxx', 'xxxx', 'y', 'yy', 'yyy', 'yyyy', 'z', 'zz', 'zzz', 'zzzz']\n"
     ]
    }
   ],
   "source": [
    "letters = []\n",
    "\n",
    "for letter in 'xyz':\n",
    "    letters.append(letter)\n",
    "    letters.append(letter+letter)\n",
    "    letters.append(letter+letter+letter)\n",
    "    letters.append(letter+letter+letter+letter)\n",
    "    \n",
    "print(letters)"
   ]
  },
  {
   "cell_type": "code",
   "execution_count": null,
   "metadata": {},
   "outputs": [],
   "source": [
    "#['x', 'y', 'z', 'xx', 'yy', 'zz', 'xxx', 'yyy', 'zzz', 'xxxx', 'yyyy', 'zzzz']\n"
   ]
  },
  {
   "cell_type": "code",
   "execution_count": 5,
   "metadata": {},
   "outputs": [
    {
     "name": "stdout",
     "output_type": "stream",
     "text": [
      "['x', 'y', 'z', 'xx', 'yy', 'zz', 'xxx', 'yyy', 'zzz', 'xxxx', 'yyyy', 'zzzz']\n"
     ]
    }
   ],
   "source": [
    "letters = []\n",
    "\n",
    "for letter in 'xyz':\n",
    "    letters.append(letter)\n",
    "for letter in 'xyz':    \n",
    "    letters.append(letter+letter)\n",
    "for letter in 'xyz': \n",
    "    letters.append(letter+letter+letter)\n",
    "for letter in 'xyz': \n",
    "    letters.append(letter+letter+letter+letter)\n",
    "    \n",
    "print(letters)"
   ]
  },
  {
   "cell_type": "code",
   "execution_count": null,
   "metadata": {},
   "outputs": [],
   "source": [
    "#[[2], [3], [4], [3], [4], [5], [4], [5], [6]]\n"
   ]
  },
  {
   "cell_type": "code",
   "execution_count": 6,
   "metadata": {},
   "outputs": [
    {
     "name": "stdout",
     "output_type": "stream",
     "text": [
      "[[2], [3], [4], [3], [4], [5], [4], [5], [6]]\n"
     ]
    }
   ],
   "source": [
    "y = 1\n",
    "l4 =[]\n",
    "for x in range(1,4):\n",
    "    l1 = [x+y for x in range(1,2)]    \n",
    "    l4.append(l1)\n",
    "    y = y+1\n",
    "\n",
    "z=2\n",
    "for x in range(1,4):\n",
    "    l2 = [x+z for x in range(1,2)]    \n",
    "    l4.append(l2)\n",
    "    z = z+1\n",
    "\n",
    "w=3\n",
    "for x in range(1,4):\n",
    "    l3 = [x+w for x in range(1,2)]    \n",
    "    l4.append(l3)\n",
    "    w = w+1\n",
    "print(l4)"
   ]
  },
  {
   "cell_type": "code",
   "execution_count": null,
   "metadata": {},
   "outputs": [],
   "source": [
    "#[[2, 3, 4, 5], [3, 4, 5, 6], [4, 5, 6, 7], [5, 6, 7, 8]]\n"
   ]
  },
  {
   "cell_type": "code",
   "execution_count": 7,
   "metadata": {},
   "outputs": [
    {
     "name": "stdout",
     "output_type": "stream",
     "text": [
      "[[2, 3, 4, 5], [3, 4, 5, 6], [4, 5, 6, 7], [5, 6, 7, 8]]\n"
     ]
    }
   ],
   "source": [
    "y = 1\n",
    "l2 =[]\n",
    "for x in range(1,5):\n",
    "    l1 = [x+y for x in range(1,5)]    \n",
    "    l2.append(l1)\n",
    "    y = y+1\n",
    "\n",
    "print(l2)"
   ]
  },
  {
   "cell_type": "code",
   "execution_count": null,
   "metadata": {},
   "outputs": [],
   "source": [
    "#[(1, 1), (2, 1), (3, 1), (1, 2), (2, 2), (3, 2), (1, 3), (2, 3), (3, 3)]"
   ]
  },
  {
   "cell_type": "code",
   "execution_count": 8,
   "metadata": {},
   "outputs": [
    {
     "name": "stdout",
     "output_type": "stream",
     "text": [
      "[(1, 1), (2, 1), (3, 1), (1, 2), (2, 2), (3, 2), (1, 3), (2, 3), (3, 3)]\n"
     ]
    }
   ],
   "source": [
    "list1 = [ 1,2,3 ]\n",
    "list2 = [ 1,2,3 ]\n",
    "merged_list = [ (y,x) for x in list1 for y in list2 ]\n",
    "print (merged_list)"
   ]
  },
  {
   "cell_type": "code",
   "execution_count": null,
   "metadata": {},
   "outputs": [],
   "source": [
    "#3. Implement a function longestWord() that takes a list of words and returns the longest one."
   ]
  },
  {
   "cell_type": "code",
   "execution_count": 9,
   "metadata": {},
   "outputs": [
    {
     "data": {
      "text/plain": [
       "'The Longest String is acadgild'"
      ]
     },
     "execution_count": 9,
     "metadata": {},
     "output_type": "execute_result"
    }
   ],
   "source": [
    "def longestWord(word_list): \n",
    "    count = 0    \n",
    "    for i in word_list: \n",
    "        if len(i) > count: \n",
    "            count = len(i)\n",
    "            word = i\n",
    "    return (\"The Longest String is \" + word)\n",
    "\n",
    "words = ['acad','acadgild','gild']\n",
    "\n",
    "longestWord(words)"
   ]
  }
 ],
 "metadata": {
  "kernelspec": {
   "display_name": "Python 3",
   "language": "python",
   "name": "python3"
  },
  "language_info": {
   "codemirror_mode": {
    "name": "ipython",
    "version": 3
   },
   "file_extension": ".py",
   "mimetype": "text/x-python",
   "name": "python",
   "nbconvert_exporter": "python",
   "pygments_lexer": "ipython3",
   "version": "3.6.5"
  }
 },
 "nbformat": 4,
 "nbformat_minor": 2
}
